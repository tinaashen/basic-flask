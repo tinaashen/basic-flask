{
 "cells": [
  {
   "cell_type": "code",
   "execution_count": 1,
   "id": "58a4ac9b-9e11-47a9-a630-af07aae75da9",
   "metadata": {},
   "outputs": [],
   "source": [
    "# !module load miniconda3 \n",
    "# !pwd\n",
    "# #! /stornext/Home/data/allstaff/s/shen.t/basic-flask\n",
    "# !module avail"
   ]
  },
  {
   "cell_type": "code",
   "execution_count": 2,
   "id": "3d7592b9-ce3e-4868-a4d8-15a3353b62aa",
   "metadata": {},
   "outputs": [],
   "source": [
    "# !node server.js"
   ]
  },
  {
   "cell_type": "code",
   "execution_count": 3,
   "id": "a79d53fe",
   "metadata": {},
   "outputs": [],
   "source": [
    "# ! pwd myenv"
   ]
  },
  {
   "cell_type": "code",
   "execution_count": 1,
   "id": "bcb848b7",
   "metadata": {
    "editable": true,
    "slideshow": {
     "slide_type": ""
    },
    "tags": []
   },
   "outputs": [],
   "source": [
    "from flask import Flask"
   ]
  },
  {
   "cell_type": "code",
   "execution_count": 2,
   "id": "83bc0538",
   "metadata": {
    "editable": true,
    "slideshow": {
     "slide_type": ""
    },
    "tags": []
   },
   "outputs": [
    {
     "name": "stdout",
     "output_type": "stream",
     "text": [
      "/stornext/Home/data/allstaff/s/shen.t/.local/share/jupyter\n"
     ]
    }
   ],
   "source": [
    "from jupyter_core.paths import jupyter_data_dir\n",
    "import os\n",
    "\n",
    "print(jupyter_data_dir())"
   ]
  },
  {
   "cell_type": "code",
   "execution_count": 3,
   "id": "3df70236-8931-4e8a-b19b-04a680539f47",
   "metadata": {
    "editable": true,
    "slideshow": {
     "slide_type": ""
    },
    "tags": []
   },
   "outputs": [],
   "source": [
    "app = Flask(__name__)\n",
    "\n",
    "@app.route(\"/\")\n",
    "def hello_world():\n",
    "    print(\"hello\")\n",
    "    return \"<p>Hello, World!</p>\""
   ]
  },
  {
   "cell_type": "code",
   "execution_count": null,
   "id": "47344d4a-61a2-4d05-b0d6-3d77f18cfa1d",
   "metadata": {
    "editable": true,
    "slideshow": {
     "slide_type": ""
    },
    "tags": []
   },
   "outputs": [
    {
     "name": "stdout",
     "output_type": "stream",
     "text": [
      " * Serving Flask app '__main__'\n",
      " * Debug mode: off\n"
     ]
    },
    {
     "name": "stderr",
     "output_type": "stream",
     "text": [
      "\u001b[31m\u001b[1mWARNING: This is a development server. Do not use it in a production deployment. Use a production WSGI server instead.\u001b[0m\n",
      " * Running on http://127.0.0.1:5000\n",
      "\u001b[33mPress CTRL+C to quit\u001b[0m\n"
     ]
    }
   ],
   "source": [
    "if __name__ == '__main__':\n",
    "    app.run()"
   ]
  },
  {
   "cell_type": "code",
   "execution_count": null,
   "id": "ea148cce-a863-418c-8b4c-d37feb8ae527",
   "metadata": {
    "editable": true,
    "slideshow": {
     "slide_type": ""
    },
    "tags": []
   },
   "outputs": [],
   "source": []
  },
  {
   "cell_type": "code",
   "execution_count": null,
   "id": "12469bd8-617e-4bb1-9244-788ed981ac33",
   "metadata": {
    "editable": true,
    "slideshow": {
     "slide_type": ""
    },
    "tags": []
   },
   "outputs": [],
   "source": []
  }
 ],
 "metadata": {
  "kernelspec": {
   "display_name": "myenv",
   "language": "python",
   "name": "myenv"
  },
  "language_info": {
   "codemirror_mode": {
    "name": "ipython",
    "version": 3
   },
   "file_extension": ".py",
   "mimetype": "text/x-python",
   "name": "python",
   "nbconvert_exporter": "python",
   "pygments_lexer": "ipython3",
   "version": "3.11.4"
  }
 },
 "nbformat": 4,
 "nbformat_minor": 5
}
